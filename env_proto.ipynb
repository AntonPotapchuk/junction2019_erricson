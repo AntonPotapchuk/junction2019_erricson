{
 "cells": [
  {
   "cell_type": "code",
   "execution_count": 94,
   "metadata": {},
   "outputs": [
    {
     "name": "stdout",
     "output_type": "stream",
     "text": [
      "The autoreload extension is already loaded. To reload it, use:\n",
      "  %reload_ext autoreload\n"
     ]
    }
   ],
   "source": [
    "import gym\n",
    "import logging\n",
    "import numpy as np\n",
    "\n",
    "from client import CarDirection, Client\n",
    "from env import JunctionEnvironment\n",
    "from matplotlib import pyplot as plt\n",
    "\n",
    "%load_ext autoreload\n",
    "%autoreload 2\n",
    "\n",
    "logger = logging.getLogger(None)\n",
    "logger.setLevel(logging.WARNING)"
   ]
  },
  {
   "cell_type": "code",
   "execution_count": 95,
   "metadata": {},
   "outputs": [],
   "source": [
    "team_name = \"ipa\"\n",
    "team_key = \"admin\""
   ]
  },
  {
   "cell_type": "code",
   "execution_count": 98,
   "metadata": {},
   "outputs": [],
   "source": [
    "client = Client(team_name=team_name, team_key=team_key)\n",
    "env = JunctionEnvironment(client)"
   ]
  },
  {
   "cell_type": "code",
   "execution_count": 102,
   "metadata": {},
   "outputs": [],
   "source": [
    "observes = env.reset()\n",
    "car_ids = env.car_ids\n",
    "dones = {car_id: False for car_id in car_ids}\n",
    "scores = {car_id: 0 for car_id in car_ids}"
   ]
  },
  {
   "cell_type": "code",
   "execution_count": 103,
   "metadata": {},
   "outputs": [],
   "source": [
    "def megaalg(obs):\n",
    "    return np.random.randint(0, 5)"
   ]
  },
  {
   "cell_type": "code",
   "execution_count": null,
   "metadata": {},
   "outputs": [],
   "source": [
    "while True:\n",
    "    for car_id in car_ids:\n",
    "        if dones[car_id]:\n",
    "            continue\n",
    "        \n",
    "        action = megaalg(observes[car_id])\n",
    "        obs, score, done, _ = env.step(action, car_id)\n",
    "        observes[car_id] = obs\n",
    "        scores[car_id] = score\n",
    "        dones[car_id] = done\n",
    "    \n",
    "    if all(dones.values()):\n",
    "        break"
   ]
  },
  {
   "cell_type": "code",
   "execution_count": null,
   "metadata": {},
   "outputs": [],
   "source": []
  },
  {
   "cell_type": "code",
   "execution_count": null,
   "metadata": {},
   "outputs": [],
   "source": []
  },
  {
   "cell_type": "code",
   "execution_count": 79,
   "metadata": {},
   "outputs": [],
   "source": [
    "car_id = list(observes.keys())[0]\n",
    "obs = observes[car_id]"
   ]
  },
  {
   "cell_type": "code",
   "execution_count": 80,
   "metadata": {},
   "outputs": [],
   "source": []
  },
  {
   "cell_type": "code",
   "execution_count": 81,
   "metadata": {},
   "outputs": [],
   "source": [
    "while True:\n",
    "    action = megaalg(obs)\n",
    "    obs, score, done, _ = env.step(action, car_id)\n",
    "    break"
   ]
  },
  {
   "cell_type": "code",
   "execution_count": null,
   "metadata": {},
   "outputs": [],
   "source": []
  },
  {
   "cell_type": "code",
   "execution_count": 92,
   "metadata": {},
   "outputs": [
    {
     "data": {
      "text/plain": [
       "<matplotlib.image.AxesImage at 0x2082c3ba208>"
      ]
     },
     "execution_count": 92,
     "metadata": {},
     "output_type": "execute_result"
    },
    {
     "data": {
      "image/png": "[encoded data removed]",
      "text/plain": [
       "<Figure size 720x720 with 1 Axes>"
      ]
     },
     "metadata": {
      "needs_background": "light"
     },
     "output_type": "display_data"
    }
   ],
   "source": [
    "plt.figure(figsize=(10, 10))\n",
    "plt.imshow(obs[:,:,5][::-1,])"
   ]
  },
  {
   "cell_type": "code",
   "execution_count": 91,
   "metadata": {},
   "outputs": [
    {
     "data": {
      "text/plain": [
       "<matplotlib.image.AxesImage at 0x2082bec62c8>"
      ]
     },
     "execution_count": 91,
     "metadata": {},
     "output_type": "execute_result"
    },
    {
     "data": {
      "image/png": "[encoded data removed]",
      "text/plain": [
       "<Figure size 720x720 with 1 Axes>"
      ]
     },
     "metadata": {
      "needs_background": "light"
     },
     "output_type": "display_data"
    }
   ],
   "source": [
    "plt.figure(figsize=(10, 10))\n",
    "plt.imshow(obs[:,:,7][::-1,])"
   ]
  },
  {
   "cell_type": "code",
   "execution_count": 61,
   "metadata": {},
   "outputs": [
    {
     "data": {
      "text/plain": [
       "<matplotlib.image.AxesImage at 0x2082acff348>"
      ]
     },
     "execution_count": 61,
     "metadata": {},
     "output_type": "execute_result"
    },
    {
     "data": {
      "image/png": "[encoded data removed]",
      "text/plain": [
       "<Figure size 720x720 with 1 Axes>"
      ]
     },
     "metadata": {
      "needs_background": "light"
     },
     "output_type": "display_data"
    }
   ],
   "source": [
    "plt.figure(figsize=(10, 10))\n",
    "plt.imshow(obs[:,:,3][::-1,])"
   ]
  },
  {
   "cell_type": "code",
   "execution_count": null,
   "metadata": {},
   "outputs": [],
   "source": []
  },
  {
   "cell_type": "code",
   "execution_count": null,
   "metadata": {},
   "outputs": [],
   "source": []
  },
  {
   "cell_type": "code",
   "execution_count": 400,
   "metadata": {},
   "outputs": [],
   "source": [
    "obs = client.get_world()"
   ]
  },
  {
   "cell_type": "code",
   "execution_count": 401,
   "metadata": {},
   "outputs": [],
   "source": [
    "customers = obs[\"customers\"]"
   ]
  },
  {
   "cell_type": "code",
   "execution_count": 402,
   "metadata": {},
   "outputs": [],
   "source": [
    "customers = [c for c in customers.values() if c[\"status\"] == \"waiting\"]"
   ]
  },
  {
   "cell_type": "code",
   "execution_count": 403,
   "metadata": {},
   "outputs": [],
   "source": [
    "cars = client.get_team_cars()"
   ]
  },
  {
   "cell_type": "code",
   "execution_count": 404,
   "metadata": {},
   "outputs": [],
   "source": [
    "env = JunctionEnvironment(cars[0], client)"
   ]
  },
  {
   "cell_type": "code",
   "execution_count": 405,
   "metadata": {},
   "outputs": [
    {
     "name": "stderr",
     "output_type": "stream",
     "text": [
      "C:\\Users\\antpo\\Desktop\\junction2019\\junction2019_erricson\\env.py:81: FutureWarning: elementwise comparison failed; returning scalar instead, but in the future will perform elementwise comparison\n",
      "  done = \"grid\" in obs\n"
     ]
    }
   ],
   "source": [
    "obs, _, _, _ = env.step(3)"
   ]
  },
  {
   "cell_type": "code",
   "execution_count": 414,
   "metadata": {},
   "outputs": [
    {
     "data": {
      "text/plain": [
       "1.0"
      ]
     },
     "execution_count": 414,
     "metadata": {},
     "output_type": "execute_result"
    }
   ],
   "source": [
    "(np.moveaxis(np.array(obs), 0, 2)[:,:,4] == obs[4]).mean()"
   ]
  },
  {
   "cell_type": "code",
   "execution_count": 415,
   "metadata": {},
   "outputs": [
    {
     "data": {
      "text/plain": [
       "1.0"
      ]
     },
     "execution_count": 415,
     "metadata": {},
     "output_type": "execute_result"
    }
   ],
   "source": [
    "np.moveaxis(np.array(obs), 0, 2)[:,:,4].sum()"
   ]
  },
  {
   "cell_type": "code",
   "execution_count": null,
   "metadata": {},
   "outputs": [],
   "source": []
  },
  {
   "cell_type": "code",
   "execution_count": 338,
   "metadata": {},
   "outputs": [
    {
     "data": {
      "text/plain": [
       "(array([[ True,  True,  True, ...,  True,  True,  True],\n",
       "        [ True,  True,  True, ...,  True,  True,  True],\n",
       "        [ True,  True,  True, ...,  True,  True,  True],\n",
       "        ...,\n",
       "        [ True,  True,  True, ...,  True,  True,  True],\n",
       "        [ True,  True,  True, ...,  True,  True,  True],\n",
       "        [ True,  True,  True, ...,  True,  True,  True]]),\n",
       " array([[0., 0., 0., ..., 0., 0., 0.],\n",
       "        [0., 0., 0., ..., 0., 0., 0.],\n",
       "        [0., 0., 0., ..., 0., 0., 0.],\n",
       "        ...,\n",
       "        [0., 0., 0., ..., 0., 0., 0.],\n",
       "        [0., 0., 0., ..., 0., 0., 0.],\n",
       "        [0., 0., 0., ..., 0., 0., 0.]]),\n",
       " array([[0., 0., 0., ..., 0., 0., 0.],\n",
       "        [0., 0., 0., ..., 0., 0., 0.],\n",
       "        [0., 0., 0., ..., 0., 0., 0.],\n",
       "        ...,\n",
       "        [0., 0., 0., ..., 0., 0., 0.],\n",
       "        [0., 0., 0., ..., 0., 0., 0.],\n",
       "        [0., 0., 0., ..., 0., 0., 0.]]),\n",
       " array([[0., 0., 0., ..., 0., 0., 0.],\n",
       "        [0., 0., 0., ..., 0., 0., 0.],\n",
       "        [0., 0., 0., ..., 0., 0., 0.],\n",
       "        ...,\n",
       "        [0., 0., 0., ..., 0., 0., 0.],\n",
       "        [0., 0., 0., ..., 0., 0., 0.],\n",
       "        [0., 0., 0., ..., 0., 0., 0.]]),\n",
       " array([[0., 0., 0., ..., 0., 0., 0.],\n",
       "        [0., 0., 0., ..., 0., 0., 0.],\n",
       "        [0., 0., 0., ..., 0., 0., 0.],\n",
       "        ...,\n",
       "        [0., 0., 0., ..., 0., 0., 0.],\n",
       "        [0., 0., 0., ..., 0., 0., 0.],\n",
       "        [0., 0., 0., ..., 0., 0., 0.]]),\n",
       " array([[4, 4, 4, ..., 4, 4, 4],\n",
       "        [4, 4, 4, ..., 4, 4, 4],\n",
       "        [4, 4, 4, ..., 4, 4, 4],\n",
       "        ...,\n",
       "        [4, 4, 4, ..., 4, 4, 4],\n",
       "        [4, 4, 4, ..., 4, 4, 4],\n",
       "        [4, 4, 4, ..., 4, 4, 4]]),\n",
       " array([[0., 0., 0., ..., 0., 0., 0.],\n",
       "        [0., 0., 0., ..., 0., 0., 0.],\n",
       "        [0., 0., 0., ..., 0., 0., 0.],\n",
       "        ...,\n",
       "        [0., 0., 0., ..., 0., 0., 0.],\n",
       "        [0., 0., 0., ..., 0., 0., 0.],\n",
       "        [0., 0., 0., ..., 0., 0., 0.]]),\n",
       " array([[0., 0., 0., ..., 0., 0., 0.],\n",
       "        [0., 0., 0., ..., 0., 0., 0.],\n",
       "        [0., 0., 0., ..., 0., 0., 0.],\n",
       "        ...,\n",
       "        [0., 0., 0., ..., 0., 0., 0.],\n",
       "        [0., 0., 0., ..., 0., 0., 0.],\n",
       "        [0., 0., 0., ..., 0., 0., 0.]]))"
      ]
     },
     "execution_count": 338,
     "metadata": {},
     "output_type": "execute_result"
    }
   ],
   "source": [
    "obs"
   ]
  },
  {
   "cell_type": "code",
   "execution_count": null,
   "metadata": {},
   "outputs": [],
   "source": [
    "np."
   ]
  },
  {
   "cell_type": "code",
   "execution_count": null,
   "metadata": {},
   "outputs": [],
   "source": []
  },
  {
   "cell_type": "code",
   "execution_count": null,
   "metadata": {},
   "outputs": [],
   "source": []
  },
  {
   "cell_type": "code",
   "execution_count": 186,
   "metadata": {},
   "outputs": [],
   "source": [
    "def _index_to_coordinates(index, width):\n",
    "    x = index % width\n",
    "    y = index // width\n",
    "    return x, y\n",
    "\n",
    "def _coordinates_to_index(x, y, width):\n",
    "    return x + width * y"
   ]
  },
  {
   "cell_type": "code",
   "execution_count": 101,
   "metadata": {},
   "outputs": [
    {
     "data": {
      "text/plain": [
       "4735"
      ]
     },
     "execution_count": 101,
     "metadata": {},
     "output_type": "execute_result"
    }
   ],
   "source": [
    "customers[0][\"origin\"]"
   ]
  },
  {
   "cell_type": "code",
   "execution_count": 266,
   "metadata": {},
   "outputs": [],
   "source": [
    "client.start_game()"
   ]
  },
  {
   "cell_type": "code",
   "execution_count": 267,
   "metadata": {},
   "outputs": [],
   "source": [
    "width = client.get_world()[\"width\"]\n",
    "\n",
    "grid = client.get_world()[\"grid\"]\n",
    "customers = client.get_world()[\"customers\"]\n",
    "customers = [c for c in customers.values() if c[\"status\"] == \"waiting\"]\n",
    "\n",
    "grid = np.array(grid).reshape(width, width)"
   ]
  },
  {
   "cell_type": "code",
   "execution_count": 268,
   "metadata": {},
   "outputs": [
    {
     "data": {
      "text/plain": [
       "<matplotlib.image.AxesImage at 0x1a502124e88>"
      ]
     },
     "execution_count": 268,
     "metadata": {},
     "output_type": "execute_result"
    },
    {
     "data": {
      "image/png": "[encoded data removed]",
      "text/plain": [
       "<Figure size 432x288 with 1 Axes>"
      ]
     },
     "metadata": {
      "needs_background": "light"
     },
     "output_type": "display_data"
    }
   ],
   "source": [
    "plt.imshow(grid[::-1,:])"
   ]
  },
  {
   "cell_type": "code",
   "execution_count": 271,
   "metadata": {},
   "outputs": [],
   "source": [
    "from scipy.spatial.distance import cityblock"
   ]
  },
  {
   "cell_type": "code",
   "execution_count": 272,
   "metadata": {},
   "outputs": [
    {
     "data": {
      "text/plain": [
       "9"
      ]
     },
     "execution_count": 272,
     "metadata": {},
     "output_type": "execute_result"
    }
   ],
   "source": [
    "cityblock((1, 1), (6, 5))"
   ]
  },
  {
   "cell_type": "code",
   "execution_count": null,
   "metadata": {},
   "outputs": [],
   "source": []
  },
  {
   "cell_type": "code",
   "execution_count": 274,
   "metadata": {},
   "outputs": [
    {
     "data": {
      "text/plain": [
       "dict_keys(['width', 'height', 'grid', 'cars', 'customers', 'teams', 'ticktime', 'ticks'])"
      ]
     },
     "execution_count": 274,
     "metadata": {},
     "output_type": "execute_result"
    }
   ],
   "source": [
    "obs.keys()"
   ]
  },
  {
   "cell_type": "code",
   "execution_count": 277,
   "metadata": {},
   "outputs": [
    {
     "data": {
      "text/plain": [
       "{'0': {'name': 'ipa', 'score': 0}}"
      ]
     },
     "execution_count": 277,
     "metadata": {},
     "output_type": "execute_result"
    }
   ],
   "source": [
    "obs[\"teams\"]"
   ]
  },
  {
   "cell_type": "code",
   "execution_count": 275,
   "metadata": {},
   "outputs": [
    {
     "data": {
      "text/plain": [
       "{'0': {'team_id': 0, 'position': 6040, 'capacity': 5, 'used_capacity': 0},\n",
       " '1': {'team_id': 0, 'position': 9504, 'capacity': 5, 'used_capacity': 0},\n",
       " '2': {'team_id': 0, 'position': 8954, 'capacity': 5, 'used_capacity': 0}}"
      ]
     },
     "execution_count": 275,
     "metadata": {},
     "output_type": "execute_result"
    }
   ],
   "source": [
    "obs['cars']"
   ]
  },
  {
   "cell_type": "code",
   "execution_count": null,
   "metadata": {},
   "outputs": [],
   "source": [
    "obs[\"cars\"]"
   ]
  },
  {
   "cell_type": "code",
   "execution_count": null,
   "metadata": {},
   "outputs": [],
   "source": []
  },
  {
   "cell_type": "code",
   "execution_count": 269,
   "metadata": {},
   "outputs": [],
   "source": [
    "for customer in customers:\n",
    "    x, y = _index_to_coordinates(customer[\"origin\"], width)\n",
    "    grid[y, x] = 0`"
   ]
  },
  {
   "cell_type": "code",
   "execution_count": 270,
   "metadata": {},
   "outputs": [
    {
     "data": {
      "text/plain": [
       "<matplotlib.image.AxesImage at 0x1a5021834c8>"
      ]
     },
     "execution_count": 270,
     "metadata": {},
     "output_type": "execute_result"
    },
    {
     "data": {
      "image/png": "[encoded data removed]",
      "text/plain": [
       "<Figure size 720x720 with 1 Axes>"
      ]
     },
     "metadata": {
      "needs_background": "light"
     },
     "output_type": "display_data"
    }
   ],
   "source": [
    "plt.figure(figsize=(10, 10))\n",
    "plt.imshow(grid[::-1,:])"
   ]
  },
  {
   "cell_type": "code",
   "execution_count": null,
   "metadata": {},
   "outputs": [],
   "source": []
  },
  {
   "cell_type": "code",
   "execution_count": 115,
   "metadata": {},
   "outputs": [
    {
     "data": {
      "text/plain": [
       "(31, 147)"
      ]
     },
     "execution_count": 115,
     "metadata": {},
     "output_type": "execute_result"
    }
   ],
   "source": [
    "_index_to_coordinates(customers[0][\"origin\"], 32)"
   ]
  },
  {
   "cell_type": "code",
   "execution_count": null,
   "metadata": {},
   "outputs": [],
   "source": []
  },
  {
   "cell_type": "code",
   "execution_count": 73,
   "metadata": {},
   "outputs": [],
   "source": [
    "env = JunctionEnvironment(cars[0], client)"
   ]
  },
  {
   "cell_type": "code",
   "execution_count": null,
   "metadata": {},
   "outputs": [],
   "source": []
  },
  {
   "cell_type": "code",
   "execution_count": 74,
   "metadata": {},
   "outputs": [
    {
     "ename": "NameError",
     "evalue": "name 'customers' is not defined",
     "output_type": "error",
     "traceback": [
      "\u001b[1;31m---------------------------------------------------------------------------\u001b[0m",
      "\u001b[1;31mNameError\u001b[0m                                 Traceback (most recent call last)",
      "\u001b[1;32m<ipython-input-74-c5672cf456ee>\u001b[0m in \u001b[0;36m<module>\u001b[1;34m\u001b[0m\n\u001b[1;32m----> 1\u001b[1;33m \u001b[0menv\u001b[0m\u001b[1;33m.\u001b[0m\u001b[0mreset\u001b[0m\u001b[1;33m(\u001b[0m\u001b[1;33m)\u001b[0m\u001b[1;33m\u001b[0m\u001b[1;33m\u001b[0m\u001b[0m\n\u001b[0m",
      "\u001b[1;32m~\\Desktop\\junction2019\\junction2019_erricson\\env.py\u001b[0m in \u001b[0;36mreset\u001b[1;34m(self)\u001b[0m\n\u001b[0;32m     97\u001b[0m         \u001b[0mself\u001b[0m\u001b[1;33m.\u001b[0m\u001b[0mclient\u001b[0m\u001b[1;33m.\u001b[0m\u001b[0mstart_game\u001b[0m\u001b[1;33m(\u001b[0m\u001b[1;33m)\u001b[0m\u001b[1;33m\u001b[0m\u001b[1;33m\u001b[0m\u001b[0m\n\u001b[0;32m     98\u001b[0m         \u001b[0mself\u001b[0m\u001b[1;33m.\u001b[0m\u001b[0m_setup\u001b[0m\u001b[1;33m(\u001b[0m\u001b[1;33m)\u001b[0m\u001b[1;33m\u001b[0m\u001b[1;33m\u001b[0m\u001b[0m\n\u001b[1;32m---> 99\u001b[1;33m         \u001b[1;32mreturn\u001b[0m \u001b[0mself\u001b[0m\u001b[1;33m.\u001b[0m\u001b[0m__process_observations\u001b[0m\u001b[1;33m(\u001b[0m\u001b[0mself\u001b[0m\u001b[1;33m.\u001b[0m\u001b[0mclient\u001b[0m\u001b[1;33m.\u001b[0m\u001b[0mget_world\u001b[0m\u001b[1;33m(\u001b[0m\u001b[1;33m)\u001b[0m\u001b[1;33m)\u001b[0m\u001b[1;33m\u001b[0m\u001b[1;33m\u001b[0m\u001b[0m\n\u001b[0m\u001b[0;32m    100\u001b[0m \u001b[1;33m\u001b[0m\u001b[0m\n\u001b[0;32m    101\u001b[0m     \u001b[1;32mdef\u001b[0m \u001b[0mrender\u001b[0m\u001b[1;33m(\u001b[0m\u001b[0mself\u001b[0m\u001b[1;33m,\u001b[0m \u001b[0mmode\u001b[0m\u001b[1;33m=\u001b[0m\u001b[1;34m'human'\u001b[0m\u001b[1;33m)\u001b[0m\u001b[1;33m:\u001b[0m\u001b[1;33m\u001b[0m\u001b[1;33m\u001b[0m\u001b[0m\n",
      "\u001b[1;32m~\\Desktop\\junction2019\\junction2019_erricson\\env.py\u001b[0m in \u001b[0;36m__process_observations\u001b[1;34m(self, obs)\u001b[0m\n\u001b[0;32m    150\u001b[0m         \u001b[1;31m# customers =\u001b[0m\u001b[1;33m\u001b[0m\u001b[1;33m\u001b[0m\u001b[1;33m\u001b[0m\u001b[0m\n\u001b[0;32m    151\u001b[0m \u001b[1;33m\u001b[0m\u001b[0m\n\u001b[1;32m--> 152\u001b[1;33m         \u001b[1;32mreturn\u001b[0m \u001b[1;33m(\u001b[0m\u001b[0mmap_space\u001b[0m\u001b[1;33m,\u001b[0m \u001b[0mcustomers\u001b[0m\u001b[1;33m,\u001b[0m \u001b[0mdestinations\u001b[0m\u001b[1;33m,\u001b[0m \u001b[0mmates\u001b[0m\u001b[1;33m,\u001b[0m \u001b[0mopponents\u001b[0m\u001b[1;33m,\u001b[0m \u001b[0mlocation\u001b[0m\u001b[1;33m)\u001b[0m\u001b[1;33m\u001b[0m\u001b[1;33m\u001b[0m\u001b[0m\n\u001b[0m",
      "\u001b[1;31mNameError\u001b[0m: name 'customers' is not defined"
     ]
    }
   ],
   "source": [
    "env.reset()"
   ]
  },
  {
   "cell_type": "code",
   "execution_count": 59,
   "metadata": {},
   "outputs": [
    {
     "data": {
      "text/plain": [
       "100"
      ]
     },
     "execution_count": 59,
     "metadata": {},
     "output_type": "execute_result"
    }
   ],
   "source": [
    "env.width"
   ]
  },
  {
   "cell_type": "code",
   "execution_count": 76,
   "metadata": {},
   "outputs": [],
   "source": [
    "obs = client.get_world()"
   ]
  },
  {
   "cell_type": "code",
   "execution_count": 62,
   "metadata": {},
   "outputs": [],
   "source": [
    "grid = obs[\"grid\"]"
   ]
  },
  {
   "cell_type": "code",
   "execution_count": 78,
   "metadata": {},
   "outputs": [
    {
     "data": {
      "text/plain": [
       "dict_keys(['width', 'height', 'grid', 'cars', 'customers', 'teams', 'ticktime', 'ticks'])"
      ]
     },
     "execution_count": 78,
     "metadata": {},
     "output_type": "execute_result"
    }
   ],
   "source": [
    "obs.keys()"
   ]
  },
  {
   "cell_type": "code",
   "execution_count": 82,
   "metadata": {},
   "outputs": [
    {
     "name": "stderr",
     "output_type": "stream",
     "text": [
      "[autoreload of env failed: Traceback (most recent call last):\n",
      "  File \"C:\\Users\\antpo\\Anaconda3\\envs\\junction2019\\lib\\site-packages\\IPython\\extensions\\autoreload.py\", line 245, in check\n",
      "    superreload(m, reload, self.old_objects)\n",
      "  File \"C:\\Users\\antpo\\Anaconda3\\envs\\junction2019\\lib\\site-packages\\IPython\\extensions\\autoreload.py\", line 394, in superreload\n",
      "    module = reload(module)\n",
      "  File \"C:\\Users\\antpo\\Anaconda3\\envs\\junction2019\\lib\\imp.py\", line 314, in reload\n",
      "    return importlib.reload(module)\n",
      "  File \"C:\\Users\\antpo\\Anaconda3\\envs\\junction2019\\lib\\importlib\\__init__.py\", line 169, in reload\n",
      "    _bootstrap._exec(spec, module)\n",
      "  File \"<frozen importlib._bootstrap>\", line 630, in _exec\n",
      "  File \"<frozen importlib._bootstrap_external>\", line 724, in exec_module\n",
      "  File \"<frozen importlib._bootstrap_external>\", line 860, in get_code\n",
      "  File \"<frozen importlib._bootstrap_external>\", line 791, in source_to_code\n",
      "  File \"<frozen importlib._bootstrap>\", line 219, in _call_with_frames_removed\n",
      "  File \"C:\\Users\\antpo\\Desktop\\junction2019\\junction2019_erricson\\env.py\", line 152\n",
      "    customers =\n",
      "              ^\n",
      "SyntaxError: invalid syntax\n",
      "]\n"
     ]
    },
    {
     "ename": "NameError",
     "evalue": "name 'np' is not defined",
     "output_type": "error",
     "traceback": [
      "\u001b[1;31m---------------------------------------------------------------------------\u001b[0m",
      "\u001b[1;31mNameError\u001b[0m                                 Traceback (most recent call last)",
      "\u001b[1;32m<ipython-input-82-7f09fb9e24fa>\u001b[0m in \u001b[0;36m<module>\u001b[1;34m\u001b[0m\n\u001b[1;32m----> 1\u001b[1;33m \u001b[0mnp\u001b[0m\u001b[1;33m.\u001b[0m\u001b[0mar\u001b[0m\u001b[1;33m\u001b[0m\u001b[1;33m\u001b[0m\u001b[0m\n\u001b[0m",
      "\u001b[1;31mNameError\u001b[0m: name 'np' is not defined"
     ]
    }
   ],
   "source": [
    "np."
   ]
  },
  {
   "cell_type": "code",
   "execution_count": 81,
   "metadata": {},
   "outputs": [
    {
     "data": {
      "text/plain": [
       "{'0': {'origin': 4735, 'destination': 36, 'status': 'waiting', 'car_id': -1},\n",
       " '1': {'origin': 645, 'destination': 9031, 'status': 'waiting', 'car_id': -1},\n",
       " '10': {'origin': 1057,\n",
       "  'destination': 7187,\n",
       "  'status': 'waiting',\n",
       "  'car_id': -1},\n",
       " '11': {'origin': 7757,\n",
       "  'destination': 6707,\n",
       "  'status': 'waiting',\n",
       "  'car_id': -1},\n",
       " '12': {'origin': 7862,\n",
       "  'destination': 7107,\n",
       "  'status': 'waiting',\n",
       "  'car_id': -1},\n",
       " '13': {'origin': 9536,\n",
       "  'destination': 1795,\n",
       "  'status': 'waiting',\n",
       "  'car_id': -1},\n",
       " '14': {'origin': 8661,\n",
       "  'destination': 7356,\n",
       "  'status': 'waiting',\n",
       "  'car_id': -1},\n",
       " '15': {'origin': 8546,\n",
       "  'destination': 8351,\n",
       "  'status': 'waiting',\n",
       "  'car_id': -1},\n",
       " '16': {'origin': 4426,\n",
       "  'destination': 6237,\n",
       "  'status': 'waiting',\n",
       "  'car_id': -1},\n",
       " '17': {'origin': 1560,\n",
       "  'destination': 4050,\n",
       "  'status': 'waiting',\n",
       "  'car_id': -1},\n",
       " '18': {'origin': 7099,\n",
       "  'destination': 8405,\n",
       "  'status': 'waiting',\n",
       "  'car_id': -1},\n",
       " '19': {'origin': 5357,\n",
       "  'destination': 2693,\n",
       "  'status': 'waiting',\n",
       "  'car_id': -1},\n",
       " '2': {'origin': 185, 'destination': 879, 'status': 'waiting', 'car_id': -1},\n",
       " '3': {'origin': 5399, 'destination': 4926, 'status': 'waiting', 'car_id': -1},\n",
       " '4': {'origin': 1303, 'destination': 6290, 'status': 'waiting', 'car_id': -1},\n",
       " '5': {'origin': 3429, 'destination': 4442, 'status': 'waiting', 'car_id': -1},\n",
       " '6': {'origin': 5790, 'destination': 3151, 'status': 'waiting', 'car_id': -1},\n",
       " '7': {'origin': 7646, 'destination': 4188, 'status': 'waiting', 'car_id': -1},\n",
       " '8': {'origin': 6632, 'destination': 4596, 'status': 'waiting', 'car_id': -1},\n",
       " '9': {'origin': 2499, 'destination': 5299, 'status': 'waiting', 'car_id': -1}}"
      ]
     },
     "execution_count": 81,
     "metadata": {},
     "output_type": "execute_result"
    }
   ],
   "source": [
    "obs[\"customers\"]"
   ]
  },
  {
   "cell_type": "code",
   "execution_count": 79,
   "metadata": {},
   "outputs": [
    {
     "data": {
      "text/plain": [
       "{'0': {'origin': 4735, 'destination': 36, 'status': 'waiting', 'car_id': -1},\n",
       " '1': {'origin': 645, 'destination': 9031, 'status': 'waiting', 'car_id': -1},\n",
       " '10': {'origin': 1057,\n",
       "  'destination': 7187,\n",
       "  'status': 'waiting',\n",
       "  'car_id': -1},\n",
       " '11': {'origin': 7757,\n",
       "  'destination': 6707,\n",
       "  'status': 'waiting',\n",
       "  'car_id': -1},\n",
       " '12': {'origin': 7862,\n",
       "  'destination': 7107,\n",
       "  'status': 'waiting',\n",
       "  'car_id': -1},\n",
       " '13': {'origin': 9536,\n",
       "  'destination': 1795,\n",
       "  'status': 'waiting',\n",
       "  'car_id': -1},\n",
       " '14': {'origin': 8661,\n",
       "  'destination': 7356,\n",
       "  'status': 'waiting',\n",
       "  'car_id': -1},\n",
       " '15': {'origin': 8546,\n",
       "  'destination': 8351,\n",
       "  'status': 'waiting',\n",
       "  'car_id': -1},\n",
       " '16': {'origin': 4426,\n",
       "  'destination': 6237,\n",
       "  'status': 'waiting',\n",
       "  'car_id': -1},\n",
       " '17': {'origin': 1560,\n",
       "  'destination': 4050,\n",
       "  'status': 'waiting',\n",
       "  'car_id': -1},\n",
       " '18': {'origin': 7099,\n",
       "  'destination': 8405,\n",
       "  'status': 'waiting',\n",
       "  'car_id': -1},\n",
       " '19': {'origin': 5357,\n",
       "  'destination': 2693,\n",
       "  'status': 'waiting',\n",
       "  'car_id': -1},\n",
       " '2': {'origin': 185, 'destination': 879, 'status': 'waiting', 'car_id': -1},\n",
       " '3': {'origin': 5399, 'destination': 4926, 'status': 'waiting', 'car_id': -1},\n",
       " '4': {'origin': 1303, 'destination': 6290, 'status': 'waiting', 'car_id': -1},\n",
       " '5': {'origin': 3429, 'destination': 4442, 'status': 'waiting', 'car_id': -1},\n",
       " '6': {'origin': 5790, 'destination': 3151, 'status': 'waiting', 'car_id': -1},\n",
       " '7': {'origin': 7646, 'destination': 4188, 'status': 'waiting', 'car_id': -1},\n",
       " '8': {'origin': 6632, 'destination': 4596, 'status': 'waiting', 'car_id': -1},\n",
       " '9': {'origin': 2499, 'destination': 5299, 'status': 'waiting', 'car_id': -1}}"
      ]
     },
     "execution_count": 79,
     "metadata": {},
     "output_type": "execute_result"
    }
   ],
   "source": [
    "obs[\"customers\"]"
   ]
  },
  {
   "cell_type": "code",
   "execution_count": null,
   "metadata": {},
   "outputs": [],
   "source": []
  },
  {
   "cell_type": "code",
   "execution_count": null,
   "metadata": {},
   "outputs": [],
   "source": []
  },
  {
   "cell_type": "code",
   "execution_count": 30,
   "metadata": {},
   "outputs": [
    {
     "data": {
      "text/plain": [
       "'0'"
      ]
     },
     "execution_count": 30,
     "metadata": {},
     "output_type": "execute_result"
    }
   ],
   "source": [
    "client.get_team_id()"
   ]
  },
  {
   "cell_type": "code",
   "execution_count": 29,
   "metadata": {},
   "outputs": [
    {
     "data": {
      "text/plain": [
       "[]"
      ]
     },
     "execution_count": 29,
     "metadata": {},
     "output_type": "execute_result"
    }
   ],
   "source": [
    "cars"
   ]
  },
  {
   "cell_type": "code",
   "execution_count": 27,
   "metadata": {},
   "outputs": [
    {
     "data": {
      "text/plain": [
       "{'0': {'team_id': 0, 'position': 9929, 'capacity': 5, 'used_capacity': 0},\n",
       " '1': {'team_id': 0, 'position': 4499, 'capacity': 5, 'used_capacity': 0},\n",
       " '2': {'team_id': 0, 'position': 4197, 'capacity': 5, 'used_capacity': 0}}"
      ]
     },
     "execution_count": 27,
     "metadata": {},
     "output_type": "execute_result"
    }
   ],
   "source": [
    "client.get_cars()"
   ]
  },
  {
   "cell_type": "code",
   "execution_count": 22,
   "metadata": {},
   "outputs": [
    {
     "data": {
      "text/plain": [
       "{'0': {'name': 'ipa', 'score': 0}}"
      ]
     },
     "execution_count": 22,
     "metadata": {},
     "output_type": "execute_result"
    }
   ],
   "source": [
    "client.get_teams()"
   ]
  },
  {
   "cell_type": "code",
   "execution_count": null,
   "metadata": {},
   "outputs": [],
   "source": [
    "team_id = "
   ]
  },
  {
   "cell_type": "code",
   "execution_count": null,
   "metadata": {},
   "outputs": [],
   "source": []
  },
  {
   "cell_type": "code",
   "execution_count": null,
   "metadata": {},
   "outputs": [],
   "source": [
    "env = JunctionEnvironment()"
   ]
  },
  {
   "cell_type": "code",
   "execution_count": null,
   "metadata": {},
   "outputs": [],
   "source": []
  },
  {
   "cell_type": "code",
   "execution_count": null,
   "metadata": {},
   "outputs": [],
   "source": []
  },
  {
   "cell_type": "code",
   "execution_count": 59,
   "metadata": {},
   "outputs": [],
   "source": [
    "start_game()"
   ]
  },
  {
   "cell_type": "code",
   "execution_count": 60,
   "metadata": {},
   "outputs": [
    {
     "name": "stdout",
     "output_type": "stream",
     "text": [
      "http://127.0.0.1:8080/api/v1/world\n"
     ]
    }
   ],
   "source": [
    "world = get_world()"
   ]
  },
  {
   "cell_type": "code",
   "execution_count": 15,
   "metadata": {},
   "outputs": [],
   "source": [
    "score = get_score()"
   ]
  },
  {
   "cell_type": "code",
   "execution_count": 16,
   "metadata": {},
   "outputs": [
    {
     "data": {
      "text/plain": [
       "{'Harold-and-Marquis': {'current': 0, 'scores': [['IslandsAndBridges', 0]]}}"
      ]
     },
     "execution_count": 16,
     "metadata": {},
     "output_type": "execute_result"
    }
   ],
   "source": [
    "score"
   ]
  },
  {
   "cell_type": "code",
   "execution_count": 7,
   "metadata": {},
   "outputs": [
    {
     "data": {
      "text/plain": [
       "dict_keys(['width', 'height', 'grid', 'cars', 'customers', 'teams', 'ticktime', 'ticks'])"
      ]
     },
     "execution_count": 7,
     "metadata": {},
     "output_type": "execute_result"
    }
   ],
   "source": [
    "world.keys()"
   ]
  },
  {
   "cell_type": "code",
   "execution_count": 97,
   "metadata": {},
   "outputs": [
    {
     "data": {
      "text/plain": [
       "{'0': {'team_id': 0, 'position': 9529, 'capacity': 5, 'used_capacity': 0},\n",
       " '1': {'team_id': 0, 'position': 470, 'capacity': 5, 'used_capacity': 0},\n",
       " '2': {'team_id': 0, 'position': 1395, 'capacity': 5, 'used_capacity': 0},\n",
       " '3': {'team_id': 1, 'position': 61, 'capacity': 5, 'used_capacity': 0},\n",
       " '4': {'team_id': 1, 'position': 8084, 'capacity': 5, 'used_capacity': 0},\n",
       " '5': {'team_id': 1, 'position': 1644, 'capacity': 5, 'used_capacity': 0},\n",
       " '6': {'team_id': 2, 'position': 1280, 'capacity': 5, 'used_capacity': 0},\n",
       " '7': {'team_id': 2, 'position': 457, 'capacity': 5, 'used_capacity': 0},\n",
       " '8': {'team_id': 2, 'position': 9985, 'capacity': 5, 'used_capacity': 0}}"
      ]
     },
     "execution_count": 97,
     "metadata": {},
     "output_type": "execute_result"
    }
   ],
   "source": [
    "world[\"cars\"]"
   ]
  },
  {
   "cell_type": "code",
   "execution_count": 98,
   "metadata": {},
   "outputs": [
    {
     "data": {
      "text/plain": [
       "{'0': {'origin': 14, 'destination': 9629, 'status': 'waiting', 'car_id': -1},\n",
       " '1': {'origin': 1581, 'destination': 1080, 'status': 'waiting', 'car_id': -1},\n",
       " '10': {'origin': 489, 'destination': 758, 'status': 'waiting', 'car_id': -1},\n",
       " '11': {'origin': 1097, 'destination': 57, 'status': 'waiting', 'car_id': -1},\n",
       " '12': {'origin': 802, 'destination': 7642, 'status': 'waiting', 'car_id': -1},\n",
       " '13': {'origin': 5259,\n",
       "  'destination': 1935,\n",
       "  'status': 'waiting',\n",
       "  'car_id': -1},\n",
       " '14': {'origin': 1474, 'destination': 613, 'status': 'waiting', 'car_id': -1},\n",
       " '15': {'origin': 7987, 'destination': 87, 'status': 'waiting', 'car_id': -1},\n",
       " '16': {'origin': 6721, 'destination': 50, 'status': 'waiting', 'car_id': -1},\n",
       " '17': {'origin': 1600, 'destination': 457, 'status': 'waiting', 'car_id': -1},\n",
       " '18': {'origin': 9897,\n",
       "  'destination': 7648,\n",
       "  'status': 'waiting',\n",
       "  'car_id': -1},\n",
       " '19': {'origin': 9900,\n",
       "  'destination': 1139,\n",
       "  'status': 'waiting',\n",
       "  'car_id': -1},\n",
       " '2': {'origin': 9861, 'destination': 689, 'status': 'waiting', 'car_id': -1},\n",
       " '3': {'origin': 9932, 'destination': 9953, 'status': 'waiting', 'car_id': -1},\n",
       " '4': {'origin': 504, 'destination': 1298, 'status': 'waiting', 'car_id': -1},\n",
       " '5': {'origin': 999, 'destination': 4918, 'status': 'waiting', 'car_id': -1},\n",
       " '6': {'origin': 9602, 'destination': 9856, 'status': 'waiting', 'car_id': -1},\n",
       " '7': {'origin': 2071, 'destination': 5239, 'status': 'waiting', 'car_id': -1},\n",
       " '8': {'origin': 9848, 'destination': 9769, 'status': 'waiting', 'car_id': -1},\n",
       " '9': {'origin': 7822, 'destination': 9555, 'status': 'waiting', 'car_id': -1}}"
      ]
     },
     "execution_count": 98,
     "metadata": {},
     "output_type": "execute_result"
    }
   ],
   "source": [
    "world[\"customers\"]"
   ]
  },
  {
   "cell_type": "code",
   "execution_count": 99,
   "metadata": {},
   "outputs": [
    {
     "data": {
      "text/plain": [
       "{'0': {'name': 'Winifred-and-Gary', 'score': 0},\n",
       " '1': {'name': 'John-and-Dwayne', 'score': 0},\n",
       " '2': {'name': 'Richard-and-Benjamin', 'score': 0}}"
      ]
     },
     "execution_count": 99,
     "metadata": {},
     "output_type": "execute_result"
    }
   ],
   "source": [
    "world[\"teams\"]"
   ]
  },
  {
   "cell_type": "code",
   "execution_count": 100,
   "metadata": {},
   "outputs": [
    {
     "data": {
      "text/plain": [
       "200"
      ]
     },
     "execution_count": 100,
     "metadata": {},
     "output_type": "execute_result"
    }
   ],
   "source": [
    "world[\"ticktime\"]"
   ]
  },
  {
   "cell_type": "code",
   "execution_count": 101,
   "metadata": {},
   "outputs": [
    {
     "data": {
      "text/plain": [
       "3159"
      ]
     },
     "execution_count": 101,
     "metadata": {},
     "output_type": "execute_result"
    }
   ],
   "source": [
    "world[\"ticks\"]"
   ]
  },
  {
   "cell_type": "code",
   "execution_count": null,
   "metadata": {},
   "outputs": [],
   "source": []
  },
  {
   "cell_type": "code",
   "execution_count": null,
   "metadata": {},
   "outputs": [],
   "source": []
  },
  {
   "cell_type": "code",
   "execution_count": null,
   "metadata": {},
   "outputs": [],
   "source": []
  },
  {
   "cell_type": "code",
   "execution_count": 22,
   "metadata": {},
   "outputs": [
    {
     "data": {
      "text/plain": [
       "False"
      ]
     },
     "execution_count": 22,
     "metadata": {},
     "output_type": "execute_result"
    }
   ],
   "source": [
    "world"
   ]
  },
  {
   "cell_type": "code",
   "execution_count": 11,
   "metadata": {},
   "outputs": [
    {
     "ename": "NameError",
     "evalue": "name 'token' is not defined",
     "output_type": "error",
     "traceback": [
      "\u001b[1;31m---------------------------------------------------------------------------\u001b[0m",
      "\u001b[1;31mNameError\u001b[0m                                 Traceback (most recent call last)",
      "\u001b[1;32m<ipython-input-11-171f3858f8e5>\u001b[0m in \u001b[0;36m<module>\u001b[1;34m\u001b[0m\n\u001b[0;32m      6\u001b[0m         \u001b[1;32mcontinue\u001b[0m\u001b[1;33m\u001b[0m\u001b[1;33m\u001b[0m\u001b[0m\n\u001b[0;32m      7\u001b[0m \u001b[1;33m\u001b[0m\u001b[0m\n\u001b[1;32m----> 8\u001b[1;33m     \u001b[0mnew_car_directions\u001b[0m \u001b[1;33m=\u001b[0m \u001b[0mmove_cars\u001b[0m\u001b[1;33m(\u001b[0m\u001b[0mtoken\u001b[0m\u001b[1;33m,\u001b[0m \u001b[0mworld\u001b[0m\u001b[1;33m,\u001b[0m \u001b[0mprevious_car_directions\u001b[0m\u001b[1;33m)\u001b[0m\u001b[1;33m\u001b[0m\u001b[1;33m\u001b[0m\u001b[0m\n\u001b[0m\u001b[0;32m      9\u001b[0m     \u001b[0mprevious_car_directions\u001b[0m \u001b[1;33m=\u001b[0m \u001b[0mnew_car_directions\u001b[0m\u001b[1;33m\u001b[0m\u001b[1;33m\u001b[0m\u001b[0m\n\u001b[0;32m     10\u001b[0m     \u001b[0mtime\u001b[0m\u001b[1;33m.\u001b[0m\u001b[0msleep\u001b[0m\u001b[1;33m(\u001b[0m\u001b[1;36m1\u001b[0m\u001b[1;33m)\u001b[0m\u001b[1;33m\u001b[0m\u001b[1;33m\u001b[0m\u001b[0m\n",
      "\u001b[1;31mNameError\u001b[0m: name 'token' is not defined"
     ]
    }
   ],
   "source": [
    "previous_car_directions = {}\n",
    "while True:\n",
    "    world = get_world()\n",
    "    if not world:\n",
    "        start_game()\n",
    "        continue\n",
    "\n",
    "    new_car_directions = move_cars(token, world, previous_car_directions)\n",
    "    previous_car_directions = new_car_directions\n",
    "    time.sleep(1)"
   ]
  },
  {
   "cell_type": "code",
   "execution_count": null,
   "metadata": {},
   "outputs": [],
   "source": []
  }
 ],
 "metadata": {
  "kernelspec": {
   "display_name": "Python [conda env:junction2019]",
   "language": "python",
   "name": "conda-env-junction2019-py"
  },
  "language_info": {
   "codemirror_mode": {
    "name": "ipython",
    "version": 3
   },
   "file_extension": ".py",
   "mimetype": "text/x-python",
   "name": "python",
   "nbconvert_exporter": "python",
   "pygments_lexer": "ipython3",
   "version": "3.7.5"
  }
 },
 "nbformat": 4,
 "nbformat_minor": 4
}

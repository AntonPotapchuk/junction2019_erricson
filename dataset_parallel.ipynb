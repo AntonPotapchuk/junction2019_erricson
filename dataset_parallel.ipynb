{
 "cells": [
  {
   "cell_type": "code",
   "execution_count": 1,
   "metadata": {},
   "outputs": [],
   "source": [
    "import gym\n",
    "import logging\n",
    "import numpy as np\n",
    "import dill as pickle\n",
    "import os\n",
    "\n",
    "from threading import Thread, Lock\n",
    "from client import CarDirection, Client\n",
    "from env import JunctionEnvironment\n",
    "from matplotlib import pyplot as plt\n",
    "\n",
    "%load_ext autoreload\n",
    "%autoreload 2"
   ]
  },
  {
   "cell_type": "code",
   "execution_count": 2,
   "metadata": {},
   "outputs": [],
   "source": [
    "logger = logging.getLogger(None)\n",
    "logger.setLevel(logging.WARNING)"
   ]
  },
  {
   "cell_type": "code",
   "execution_count": 3,
   "metadata": {},
   "outputs": [],
   "source": [
    "team_name = \"ipa\"\n",
    "team_key = \"admin\"\n",
    "N_GAMES = 1\n",
    "CACHE_DIR = \"./cache\"\n",
    "DATASET_DIR = os.path.join(CACHE_DIR, \"dataset\")\n",
    "IMIT_LEARNING_DATASET_DIR = os.path.join(DATASET_DIR, \"imitation_learning\")\n",
    "\n",
    "if not os.path.isdir(IMIT_LEARNING_DATASET_DIR):\n",
    "    os.makedirs(IMIT_LEARNING_DATASET_DIR)"
   ]
  },
  {
   "cell_type": "code",
   "execution_count": 4,
   "metadata": {},
   "outputs": [],
   "source": [
    "def megaalg(obs):\n",
    "    return np.random.randint(0, 5)"
   ]
  },
  {
   "cell_type": "code",
   "execution_count": 5,
   "metadata": {},
   "outputs": [],
   "source": [
    "class Runner(Thread):\n",
    "    def __init__(self, car_id, game_id, env, lock):\n",
    "        super().__init__()\n",
    "        self.car_id = car_id\n",
    "        self.game_id = game_id\n",
    "        self.env = env\n",
    "        self.lock = lock\n",
    "        \n",
    "        self.prev_obs = None\n",
    "        \n",
    "        self.obss = []\n",
    "        self.scores = []\n",
    "        self.actions = []\n",
    "        \n",
    "    def run(self):\n",
    "        # Need to do some initial action to fetch observations\n",
    "        obs, score, done, _ = self.env.step(1, self.car_id)\n",
    "        self.prev_obs = obs\n",
    "        \n",
    "        while not done:\n",
    "            try:\n",
    "                new_action = megaalg(self.prev_obs)\n",
    "                self.lock.acquire()\n",
    "                obs, score, done, _ = self.env.step(new_action, self.car_id)\n",
    "                self.lock.release()\n",
    "                action = new_action\n",
    "\n",
    "                self.obss.append(self.prev_obs)\n",
    "                self.scores.append(score)\n",
    "                self.actions.append(action)\n",
    "            finally:\n",
    "                pass\n",
    "\n",
    "            self.prev_obs = obs\n",
    "        \n",
    "        self.obss = np.array(self.obss)\n",
    "        self.scores = np.array(self.scores)\n",
    "        self.actions = np.array(self.actions)\n",
    "        \n",
    "        with open(os.path.join(IMIT_LEARNING_DATASET_DIR, f\"game_{self.game_id}_car_{self.car_id}_obs.pkl\"), \"wb\"):\n",
    "            pickle.dumps(self.obss)\n",
    "        with open(os.path.join(IMIT_LEARNING_DATASET_DIR, f\"game_{self.game_id}_car_{self.car_id}_scores.pkl\"), \"wb\"):\n",
    "            pickle.dumps(self.scores)\n",
    "        with open(os.path.join(IMIT_LEARNING_DATASET_DIR, f\"game_{self.game_id}_car_{self.car_id}_actions.pkl\"), \"wb\"):\n",
    "            pickle.dumps(self.actions)"
   ]
  },
  {
   "cell_type": "code",
   "execution_count": 6,
   "metadata": {},
   "outputs": [],
   "source": [
    "client = Client(team_name=team_name, team_key=team_key)\n",
    "env = JunctionEnvironment(client)"
   ]
  },
  {
   "cell_type": "code",
   "execution_count": 7,
   "metadata": {},
   "outputs": [],
   "source": [
    "lock = Lock()"
   ]
  },
  {
   "cell_type": "code",
   "execution_count": null,
   "metadata": {},
   "outputs": [
    {
     "name": "stdout",
     "output_type": "stream",
     "text": [
      "Running game 0\n"
     ]
    }
   ],
   "source": [
    "for i in range(N_GAMES):\n",
    "    print(\"Running game\", i)\n",
    "    game_id = np.random.randint(0, 100000)\n",
    "    _ = env.reset()\n",
    "    \n",
    "    processes = []\n",
    "    for car_id in env.car_ids:\n",
    "        process = Runner(car_id, game_id, env, lock)\n",
    "        processes.append(process)\n",
    "        \n",
    "    for process in processes:\n",
    "        process.start()\n",
    "        \n",
    "    for process in processes:\n",
    "        process.join()\n",
    "    print(f\"Game {i} finished\")"
   ]
  },
  {
   "cell_type": "code",
   "execution_count": null,
   "metadata": {},
   "outputs": [],
   "source": []
  },
  {
   "cell_type": "code",
   "execution_count": null,
   "metadata": {},
   "outputs": [],
   "source": []
  }
 ],
 "metadata": {
  "kernelspec": {
   "display_name": "Python [conda env:junction2019]",
   "language": "python",
   "name": "conda-env-junction2019-py"
  },
  "language_info": {
   "codemirror_mode": {
    "name": "ipython",
    "version": 3
   },
   "file_extension": ".py",
   "mimetype": "text/x-python",
   "name": "python",
   "nbconvert_exporter": "python",
   "pygments_lexer": "ipython3",
   "version": "3.7.5"
  }
 },
 "nbformat": 4,
 "nbformat_minor": 4
}

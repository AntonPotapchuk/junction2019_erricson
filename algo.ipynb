{
 "cells": [
  {
   "cell_type": "code",
   "execution_count": 19,
   "metadata": {},
   "outputs": [],
   "source": [
    "import numpy as np\n",
    "\n",
    "from matplotlib import pyplot as plt\n",
    "from client.client import CarDirection, start_game, get_world, add_team_and_get_token, setup"
   ]
  },
  {
   "cell_type": "code",
   "execution_count": 13,
   "metadata": {},
   "outputs": [
    {
     "name": "stderr",
     "output_type": "stream",
     "text": [
      "INFO:root:Setup complete\n",
      "INFO:root:Started game\n"
     ]
    }
   ],
   "source": [
    "setup()\n",
    "token = add_team_and_get_token()\n",
    "start_game()\n",
    "world = get_world()"
   ]
  },
  {
   "cell_type": "code",
   "execution_count": 32,
   "metadata": {},
   "outputs": [],
   "source": [
    "grid = np.array(world[\"grid\"]).reshape(60, 60)"
   ]
  },
  {
   "cell_type": "code",
   "execution_count": null,
   "metadata": {},
   "outputs": [],
   "source": [
    "previous_car_directions = {}\n",
    "while True:\n",
    "    logging.info('Starting new iteration')\n",
    "    world = get_world()\n",
    "    if not world:\n",
    "        # Game must have ended, start it again\n",
    "        logging.info('Game ended, starting again')\n",
    "        start_game()\n",
    "        continue\n",
    "\n",
    "    new_car_directions = move_cars(token, world, previous_car_directions)\n",
    "    previous_car_directions = new_car_directions\n",
    "    time.sleep(1)"
   ]
  }
 ],
 "metadata": {
  "kernelspec": {
   "display_name": "Python [conda env:junction2019]",
   "language": "python",
   "name": "conda-env-junction2019-py"
  },
  "language_info": {
   "codemirror_mode": {
    "name": "ipython",
    "version": 3
   },
   "file_extension": ".py",
   "mimetype": "text/x-python",
   "name": "python",
   "nbconvert_exporter": "python",
   "pygments_lexer": "ipython3",
   "version": "3.7.5"
  }
 },
 "nbformat": 4,
 "nbformat_minor": 4
}
